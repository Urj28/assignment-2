{
 "cells": [
  {
   "cell_type": "code",
   "execution_count": 2,
   "metadata": {},
   "outputs": [
    {
     "name": "stdout",
     "output_type": "stream",
     "text": [
      "enter n 3\n",
      "3 is odd number\n"
     ]
    }
   ],
   "source": [
    "# even and odd \n",
    "n=int(input(\"enter n \"))\n",
    "if(n%2==0):\n",
    "    print(n, \"is even number\")\n",
    "else:\n",
    "    print(n, \"is odd number\")"
   ]
  },
  {
   "cell_type": "code",
   "execution_count": 2,
   "metadata": {},
   "outputs": [
    {
     "ename": "SyntaxError",
     "evalue": "invalid syntax (<ipython-input-2-75fb0fc12880>, line 10)",
     "output_type": "error",
     "traceback": [
      "\u001b[1;36m  File \u001b[1;32m\"<ipython-input-2-75fb0fc12880>\"\u001b[1;36m, line \u001b[1;32m10\u001b[0m\n\u001b[1;33m    elif per >= 70 and < 80 :\u001b[0m\n\u001b[1;37m                       ^\u001b[0m\n\u001b[1;31mSyntaxError\u001b[0m\u001b[1;31m:\u001b[0m invalid syntax\n"
     ]
    }
   ],
   "source": [
    "# marksheet\n",
    "a= int(input(\"marks of subject 1\"));\n",
    "b= int(input(\"marks of subject 2\"));\n",
    "c= int(input(\"marks of subject 3\"));\n",
    "d= int(input(\"marks of subject 4\"));\n",
    "e= int(input(\"marks of subject 5\"));\n",
    "per= (a+b+c+d+e)/500 * 100\n",
    "if per >= 80 :\n",
    "    print(\"A+\")\n",
    "elif per >= 70 and < 80 :\n",
    "    print(\"B\")\n",
    "elif per >= 60 and < 70 :\n",
    "    print(\"c\")\n",
    "elif per >= 50 and < 60 :\n",
    "    print(\"D\")\n",
    "elif per < 50 :\n",
    "    print(\"Fail\")\n",
    "else \n",
    " print(\"you have entered inappropiate per\")\n",
    "    "
   ]
  },
  {
   "cell_type": "code",
   "execution_count": 3,
   "metadata": {},
   "outputs": [
    {
     "name": "stdout",
     "output_type": "stream",
     "text": [
      "232\n"
     ]
    }
   ],
   "source": [
    "mylist = [1, 1, 2, 3, 5, 8, 13, 21, 34, 55, 89]\n",
    "total = sum(mylist)\n",
    "print(total)"
   ]
  },
  {
   "cell_type": "code",
   "execution_count": null,
   "metadata": {},
   "outputs": [],
   "source": []
  }
 ],
 "metadata": {
  "kernelspec": {
   "display_name": "Python 3",
   "language": "python",
   "name": "python3"
  },
  "language_info": {
   "codemirror_mode": {
    "name": "ipython",
    "version": 3
   },
   "file_extension": ".py",
   "mimetype": "text/x-python",
   "name": "python",
   "nbconvert_exporter": "python",
   "pygments_lexer": "ipython3",
   "version": "3.7.4"
  }
 },
 "nbformat": 4,
 "nbformat_minor": 2
}
